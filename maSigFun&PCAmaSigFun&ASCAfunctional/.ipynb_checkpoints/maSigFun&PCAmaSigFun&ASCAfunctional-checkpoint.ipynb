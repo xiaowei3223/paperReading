{
 "cells": [
  {
   "cell_type": "markdown",
   "metadata": {},
   "source": [
    "**本教程来源于http://bioinfo.cipf.es/seawiki/doku.php?id=start  **"
   ]
  },
  {
   "cell_type": "markdown",
   "metadata": {},
   "source": [
    "# Serial Expression Analysis"
   ]
  },
  {
   "cell_type": "markdown",
   "metadata": {},
   "source": [
    "Serial Expression Analysis(SEA) 适用于分析连续的基因表达数据的网站。 \n",
    "\n",
    "连续的数据被理解为多因素实验设计，其中一个因素是定量变量：比如时间或治疗剂量。\n",
    "\n",
    "该网站提供5种方法来识别在连续的数据中显著变化的基因和功能分类。\n",
    "\n",
    "![roadmap_low.png](./picture/roadmap_low.png)"
   ]
  },
  {
   "cell_type": "markdown",
   "metadata": {},
   "source": [
    "下面总结了SEA算法的主要特征：\n",
    "\n",
    "名称|统计战略|选定的功能| 选择标准\n",
    "---|:--:|---:|-\n",
    "maSigPro|单变量回归|基因|具有差异表达谱的基因\n",
    "maSigFun|单变量回归|功能分类 |具有相关差异表达谱的大多数基因的功能类别\n",
    "ASCA-genes|ANOVA + Multivariate Projection | 基因 | 遵循主要表达趋势的基因\n",
    "ASCA-functional | ANOVA + Multivariate Projection | 功能分类 | 对于给定的表达趋势提供功能分类\n",
    "PCA-maSigFun | Multivariate Projection + 单变量回归 | 功能分类 | 差异表达相关基因亚集的功能分类"
   ]
  },
  {
   "cell_type": "markdown",
   "metadata": {},
   "source": [
    "上面的几个都是在 http://sea.bioinfo.cipf.es/  这个网站上进行的。"
   ]
  },
  {
   "cell_type": "markdown",
   "metadata": {},
   "source": [
    "# 1 首先，第一步是注册或者登陆账号"
   ]
  },
  {
   "cell_type": "markdown",
   "metadata": {},
   "source": [
    "![1559267176(1).jpg](./picture/1559267176(1).jpg)"
   ]
  },
  {
   "cell_type": "markdown",
   "metadata": {},
   "source": [
    "![1559267392(1).jpg](./picture/1559267392(1).jpg)"
   ]
  },
  {
   "cell_type": "markdown",
   "metadata": {},
   "source": [
    "***\n",
    "\n",
    "**登录**\n",
    "\n",
    "![1559267496(1).jpg](./picture/1559267496(1).jpg)"
   ]
  },
  {
   "cell_type": "markdown",
   "metadata": {},
   "source": [
    "# 2 上传数据"
   ]
  },
  {
   "cell_type": "markdown",
   "metadata": {},
   "source": [
    "![1559267907(1).jpg](./picture/1559267907(1).jpg)"
   ]
  },
  {
   "cell_type": "code",
   "execution_count": null,
   "metadata": {},
   "outputs": [],
   "source": []
  }
 ],
 "metadata": {
  "kernelspec": {
   "display_name": "R",
   "language": "R",
   "name": "ir"
  },
  "language_info": {
   "codemirror_mode": "r",
   "file_extension": ".r",
   "mimetype": "text/x-r-source",
   "name": "R",
   "pygments_lexer": "r",
   "version": "3.5.1"
  }
 },
 "nbformat": 4,
 "nbformat_minor": 2
}
