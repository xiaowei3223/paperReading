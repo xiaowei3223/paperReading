{
 "cells": [
  {
   "cell_type": "markdown",
   "metadata": {},
   "source": [
    "# Install java "
   ]
  },
  {
   "cell_type": "markdown",
   "metadata": {},
   "source": [
    "You should install java before you use STEM software.\n",
    "\n",
    "you can download java from [here](https://www.java.com/zh_CN/download/windows-64bit.jsp)"
   ]
  },
  {
   "cell_type": "markdown",
   "metadata": {},
   "source": [
    "# Download STEM"
   ]
  },
  {
   "cell_type": "markdown",
   "metadata": {},
   "source": [
    "You can download STEM  from [Here](http://www.sb.cs.cmu.edu/stem/stem.zip) "
   ]
  },
  {
   "cell_type": "markdown",
   "metadata": {},
   "source": [
    "unzip this file\n",
    "    ![stem1.jpg](./picture/stem1.jpg)"
   ]
  },
  {
   "cell_type": "markdown",
   "metadata": {},
   "source": [
    "click file `stem.jar` to open STEM, the input interface of STEM as follows: \n",
    "![stem2.jpg](./picture/stem2.jpg)"
   ]
  },
  {
   "cell_type": "markdown",
   "metadata": {},
   "source": [
    "The input interface divided into four sections. \n",
    "\n",
    "The first section is `Expression Data Info` to load expression data files and normalization options for the data.\n",
    "\n",
    "The second section  is `Gene Info` to load gene annotation information. \n",
    "\n",
    "The Third section is `Options` to desire clustering algorithm and various execution options. \n",
    "\n",
    "The fourth section is `Execute` perform the algorithm."
   ]
  },
  {
   "cell_type": "markdown",
   "metadata": {},
   "source": [
    "# 1 Expression Data Info"
   ]
  },
  {
   "cell_type": "markdown",
   "metadata": {},
   "source": [
    "STEM support expression microarray data and NGS data. Load data through `Data File`. \n",
    "![STEM4.jpg](./picture/STEM4.jpg)\n",
    "\n",
    "The format should like as following: ![STEM3.jpg](./picture/STEM3.jpg)\n",
    "\n",
    "An input data file consists of gene symbols, time series expression values, and optionally spot IDs. \n",
    "\n",
    "Spot IDs uniquely identify an entry in the data file, and if they are not included in the data file, then they will be automatically generated.\n",
    "\n",
    "While spot IDs must be unique, the same gene symbol may appear multiple times in the data file.\n"
   ]
  },
  {
   "cell_type": "markdown",
   "metadata": {},
   "source": [
    "**If the data file contains raw expression values as from an Ologonucleotide array, then the `Log normalize data` option should be selected.**"
   ]
  },
  {
   "cell_type": "markdown",
   "metadata": {},
   "source": [
    "**If the input data file already represents the log ratio of a sample against a control as is often the case when the data is from a two channel cDNA array and anexperiment was conducted at time point 0, then the `Normalize data` option should be selected.**"
   ]
  },
  {
   "cell_type": "markdown",
   "metadata": {},
   "source": [
    "**If the input data file already contains log ratio data against a control, but no time point 0 experiment was conducted, then the\n",
    "`No normalization/add 0` option should be selected.**"
   ]
  },
  {
   "cell_type": "markdown",
   "metadata": {},
   "source": [
    "Pressing the `Repeat Data` button brings up an interface as shown ![STEM5.jpg](./picture/STEM5.jpg)"
   ]
  },
  {
   "cell_type": "markdown",
   "metadata": {},
   "source": [
    "Repeat data files must have the same format as the original data \f",
    "le, including the same number of rows and\n",
    "columns."
   ]
  },
  {
   "cell_type": "markdown",
   "metadata": {},
   "source": [
    "Repeat data can be selected to be from either Difierent time periods or The same time period."
   ]
  },
  {
   "cell_type": "markdown",
   "metadata": {},
   "source": [
    "# 2. Gene Info "
   ]
  },
  {
   "cell_type": "markdown",
   "metadata": {},
   "source": [
    "Both gene symbols or spot IDs can be annotated as belonging to an official Gene Ontology (GO) category or a user de\f",
    "ned category.\n",
    "\n",
    "![STEM6.jpg](./picture/STEM6.jpg)"
   ]
  },
  {
   "cell_type": "markdown",
   "metadata": {},
   "source": [
    "**`gene anatation soure`**\n",
    "\n",
    "The gene annotation file can be in the official 15 column gene annotation file format"
   ]
  },
  {
   "cell_type": "markdown",
   "metadata": {},
   "source": [
    "The alternative format for an annotation file is two columns delimited by a tab as illustrated.\n",
    "\n",
    "![STEM7.jpg](./picture/STEM7.jpg)\n",
    "\n",
    "The first column contains gene symbols or spot IDs and the second column contains category IDs.\n",
    "\n",
    "The entries in each column are delimited by a semicolon (';'), comma (','), or a pipe ('j') symbol. \n",
    "\n",
    "If the same gene symbol or spot ID appears on multiple rows, then the union of all its annotations is used."
   ]
  },
  {
   "cell_type": "markdown",
   "metadata": {},
   "source": [
    "**`Cross Reference Source`** field controls the entry in the Cross Reference File field.\n",
    "\n",
    "A cross reference file establishes that two or more symbols refer to the same gene."
   ]
  },
  {
   "cell_type": "markdown",
   "metadata": {},
   "source": [
    "**`Gene Location Source`**\n",
    "\n",
    "Gene locations are used for displaying genes on the chromosome viewer. The Gene Location Source field can be set to either User Provided or No Gene\n",
    "Locations."
   ]
  },
  {
   "cell_type": "markdown",
   "metadata": {},
   "source": [
    "# 3 Options "
   ]
  },
  {
   "cell_type": "markdown",
   "metadata": {},
   "source": [
    "![stem8.jpg](./picture/stem8.jpg)\n"
   ]
  },
  {
   "cell_type": "markdown",
   "metadata": {},
   "source": [
    "Clustering method has two method that are STEM clustering method and K-mean."
   ]
  },
  {
   "cell_type": "markdown",
   "metadata": {},
   "source": [
    "**If you select `STEM clustering method`, you have two parameter to detefine.** \n",
    "\n",
    "`Maximum Number of Model Profiles`\n",
    "\n",
    "This parameter specifies the maximum number of model profiles that can be selected. Model profiles are selected from a larger set of candidate model profiles.\n",
    "\n",
    "`Maximum Unit Change in Model Profiles between Time Points`\n",
    "\n",
    "This parameter specifies the maximum number of a units a model profile may change between time points."
   ]
  },
  {
   "cell_type": "markdown",
   "metadata": {},
   "source": [
    "**When you click `Advanced Options`, you will get interface shown on like that:**"
   ]
  },
  {
   "cell_type": "markdown",
   "metadata": {},
   "source": [
    "![stem9.jpg](./picture/stem9.jpg)"
   ]
  },
  {
   "cell_type": "markdown",
   "metadata": {},
   "source": [
    "# 4. Execute"
   ]
  },
  {
   "cell_type": "markdown",
   "metadata": {},
   "source": [
    "![stem10.jpg](./picture/stem10.jpg)"
   ]
  },
  {
   "cell_type": "markdown",
   "metadata": {},
   "source": [
    "**After you click yellow buttom, the results will be show us after few minutes.**  \n",
    "\n",
    "![stem11.jpg](./picture/stem11.jpg)\n",
    "\n",
    "**Colored profiles have a statistically significant number of genes assigned.**\n",
    "\n",
    "![STEM13.jpg](./picture/STEM13.jpg)\n",
    "\n",
    "**Clicking on a profile box display detailed information about the profile.**"
   ]
  },
  {
   "cell_type": "markdown",
   "metadata": {},
   "source": [
    "![stem12.jpg](./picture/stem12.jpg)"
   ]
  },
  {
   "cell_type": "markdown",
   "metadata": {},
   "source": [
    "**If you want see more detail about STEM, you can see at [here](https://static-content.springer.com/esm/art%3A10.1186%2F1471-2105-7-191/MediaObjects/12859_2005_930_MOESM1_ESM.pdf).**"
   ]
  },
  {
   "cell_type": "code",
   "execution_count": null,
   "metadata": {},
   "outputs": [],
   "source": []
  }
 ],
 "metadata": {
  "kernelspec": {
   "display_name": "R",
   "language": "R",
   "name": "ir"
  },
  "language_info": {
   "codemirror_mode": "r",
   "file_extension": ".r",
   "mimetype": "text/x-r-source",
   "name": "R",
   "pygments_lexer": "r",
   "version": "3.5.1"
  }
 },
 "nbformat": 4,
 "nbformat_minor": 2
}
